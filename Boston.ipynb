{
  "nbformat": 4,
  "nbformat_minor": 0,
  "metadata": {
    "colab": {
      "name": "Boston.ipynb",
      "version": "0.3.2",
      "provenance": [],
      "collapsed_sections": []
    },
    "kernelspec": {
      "name": "python3",
      "display_name": "Python 3"
    }
  },
  "cells": [
    {
      "cell_type": "markdown",
      "metadata": {
        "id": "lE-LPGrGeuzQ",
        "colab_type": "text"
      },
      "source": [
        "# Boston House Prices\n",
        "\n",
        "**Data Set Characteristics:**\n",
        "\n",
        "*Number of Instances:*\n",
        "\n",
        "506\n",
        "\n",
        "*Number of Attributes:*\n",
        "\n",
        "13 numeric/categorical predictive. Median Value (attribute 14) is usually the target.\n",
        "\n",
        "*Attribute Information (in order):*\n",
        "\n",
        "*   CRIM per capita crime rate by town\n",
        "*   ZN proportion of residential land zoned for lots over 25,000 sq.ft.\n",
        "*   INDUS proportion of non-retail business acres per town\n",
        "*   CHAS Charles River dummy variable (= 1 if tract bounds river; 0 otherwise)\n",
        "*   NOX nitric oxides concentration (parts per 10 million)\n",
        "*   RM average number of rooms per dwelling\n",
        "*   AGE proportion of owner-occupied units built prior to 1940\n",
        "*   DIS weighted distances to five Boston employment centres\n",
        "*   RAD index of accessibility to radial highways\n",
        "*   TAX full-value property-tax rate per 10,000 dollars\n",
        "*   PTRATIO pupil-teacher ratio by town\n",
        "*   B 1000(Bk - 0.63)^2 where Bk is the proportion of blacks by town\n",
        "*   LSTAT % lower status of the population\n",
        "*   MEDV Median value of owner-occupied homes in 1,000 dollars’s\n",
        "\n",
        "*Missing Attribute Values:*\n",
        " \t\n",
        "None\n",
        "\n",
        "*Creator:*\n",
        "\n",
        "Harrison, D. and Rubinfeld, D.L.\n",
        "\n",
        "This is a copy of UCI ML housing dataset. https://archive.ics.uci.edu/ml/machine-learning-databases/housing/\n",
        "\n",
        "This dataset was taken from the StatLib library which is maintained at Carnegie Mellon University.\n",
        "\n",
        "The Boston house-price data of Harrison, D. and Rubinfeld, D.L. ‘Hedonic prices and the demand for clean air’, J. Environ. Economics & Management, vol.5, 81-102, 1978. Used in Belsley, Kuh & Welsch, ‘Regression diagnostics …’, Wiley, 1980. N.B. Various transformations are used in the table on pages 244-261 of the latter.\n",
        "\n",
        "The Boston house-price data has been used in many machine learning papers that address regression problems.\n",
        "\n",
        "*References:*\n",
        "\n",
        "Belsley, Kuh & Welsch, ‘Regression diagnostics: Identifying Influential Data and Sources of Collinearity’, Wiley, 1980. 244-261.\n",
        "Quinlan,R. (1993). Combining Instance-Based and Model-Based Learning. In Proceedings on the Tenth International Conference of Machine Learning, 236-243, University of Massachusetts, Amherst. Morgan Kaufmann.\n",
        "6.2.2. Iris plants dataset"
      ]
    },
    {
      "cell_type": "code",
      "metadata": {
        "id": "3cqMZFUMetdv",
        "colab_type": "code",
        "colab": {}
      },
      "source": [
        "import numpy as np\n",
        "import matplotlib.pyplot as plt\n",
        "import xgboost as xgb\n",
        "\n",
        "from sklearn import datasets, ensemble, linear_model\n",
        "from sklearn.linear_model import ElasticNet\n",
        "from sklearn.model_selection import train_test_split\n",
        "from sklearn.metrics import mean_squared_error, r2_score\n",
        "from sklearn.preprocessing import PolynomialFeatures"
      ],
      "execution_count": 0,
      "outputs": []
    },
    {
      "cell_type": "code",
      "metadata": {
        "id": "UyMkOVj8kUtQ",
        "colab_type": "code",
        "colab": {
          "base_uri": "https://localhost:8080/",
          "height": 34
        },
        "outputId": "c892e20a-d394-4f57-f183-4692420d01fc"
      },
      "source": [
        "# Load data\n",
        "\n",
        "boston = datasets.load_boston()\n",
        "X, y = boston.data, boston.target\n",
        "X = X.astype(np.float32)\n",
        "X_train, X_test, y_train, y_test = train_test_split(X, y, test_size = .1)\n",
        "print(X_train.shape, X_test.shape)"
      ],
      "execution_count": 2,
      "outputs": [
        {
          "output_type": "stream",
          "text": [
            "(455, 13) (51, 13)\n"
          ],
          "name": "stdout"
        }
      ]
    },
    {
      "cell_type": "code",
      "metadata": {
        "id": "W0o4UnfcfVia",
        "colab_type": "code",
        "outputId": "f0bef358-1f23-4df0-9e30-232cc023b220",
        "colab": {
          "base_uri": "https://localhost:8080/",
          "height": 51
        }
      },
      "source": [
        "# Fit GBM regression model\n",
        "\n",
        "params = {'n_estimators': 500, 'max_depth': 4, 'min_samples_split': 2, \n",
        "          'learning_rate': 0.01, 'loss': 'ls'}\n",
        "clf = ensemble.GradientBoostingRegressor(**params)\n",
        "clf.fit(X_train, y_train)\n",
        "y_pred_G = clf.predict(X_test)\n",
        "mse = mean_squared_error(y_test, y_pred_G)\n",
        "print(\"MSE: %.4f\" % mse)\n",
        "print('Variance score: %.2f' % r2_score(y_test, y_pred_G))"
      ],
      "execution_count": 3,
      "outputs": [
        {
          "output_type": "stream",
          "text": [
            "MSE: 5.2349\n",
            "Variance score: 0.93\n"
          ],
          "name": "stdout"
        }
      ]
    },
    {
      "cell_type": "code",
      "metadata": {
        "id": "VcSWdhMfgePz",
        "colab_type": "code",
        "colab": {
          "base_uri": "https://localhost:8080/",
          "height": 421
        },
        "outputId": "ee957579-0a1e-49ad-aa57-6b4cec090e5a"
      },
      "source": [
        "# Compute test set deviance\n",
        "\n",
        "test_score = np.zeros((params['n_estimators'],), dtype=np.float64)\n",
        "\n",
        "for i, y_pred_G in enumerate(clf.staged_predict(X_test)):\n",
        "    test_score[i] = clf.loss_(y_test, y_pred_G)\n",
        "\n",
        "plt.figure(figsize=(12, 6))\n",
        "plt.subplot(1, 2, 1)\n",
        "plt.title('Deviance')\n",
        "plt.plot(np.arange(params['n_estimators']) + 1, clf.train_score_, 'b-',\n",
        "         label='Training Set Deviance')\n",
        "plt.plot(np.arange(params['n_estimators']) + 1, test_score, 'r-',\n",
        "         label='Test Set Deviance')\n",
        "plt.legend(loc='upper right')\n",
        "plt.xlabel('Boosting Iterations')\n",
        "plt.ylabel('Deviance')"
      ],
      "execution_count": 4,
      "outputs": [
        {
          "output_type": "execute_result",
          "data": {
            "text/plain": [
              "Text(0, 0.5, 'Deviance')"
            ]
          },
          "metadata": {
            "tags": []
          },
          "execution_count": 4
        },
        {
          "output_type": "display_data",
          "data": {
            "image/png": "[encoded data removed]",
            "text/plain": [
              "<Figure size 864x432 with 1 Axes>"
            ]
          },
          "metadata": {
            "tags": []
          }
        }
      ]
    },
    {
      "cell_type": "code",
      "metadata": {
        "id": "EILPIelSCFb9",
        "colab_type": "code",
        "colab": {
          "base_uri": "https://localhost:8080/",
          "height": 295
        },
        "outputId": "b59c1d62-ed45-4ee0-b071-491f1b47e74c"
      },
      "source": [
        "# Plot feature importance\n",
        "\n",
        "feature_importance = clf.feature_importances_\n",
        "feature_importance = 100.0 * (feature_importance / feature_importance.max())\n",
        "sorted_idx = np.argsort(feature_importance)\n",
        "pos = np.arange(sorted_idx.shape[0]) + .5\n",
        "plt.subplot(1, 2, 2)\n",
        "plt.barh(pos, feature_importance[sorted_idx], align='center')\n",
        "plt.yticks(pos, boston.feature_names[sorted_idx])\n",
        "plt.xlabel('Relative Importance')\n",
        "plt.title('Variable Importance')\n",
        "plt.show()"
      ],
      "execution_count": 5,
      "outputs": [
        {
          "output_type": "display_data",
          "data": {
            "image/png": "[encoded data removed]",
            "text/plain": [
              "<Figure size 432x288 with 1 Axes>"
            ]
          },
          "metadata": {
            "tags": []
          }
        }
      ]
    },
    {
      "cell_type": "code",
      "metadata": {
        "id": "0gB6jIdcG5Nx",
        "colab_type": "code",
        "colab": {
          "base_uri": "https://localhost:8080/",
          "height": 51
        },
        "outputId": "fc327331-5c92-4cec-f04e-a356e5ef30c2"
      },
      "source": [
        "# Fit XGBoost model\n",
        "\n",
        "paramsxgb = {'max_depth': 4, 'eta': 0.1}\n",
        "xgboost = xgb.XGBClassifier(**paramsxgb)\n",
        "xgboost.fit(X_train, y_train)\n",
        "y_pred_xgb = clf.predict(X_test)\n",
        "mse = mean_squared_error(y_test, y_pred_xgb)\n",
        "print(\"MSE: %.4f\" % mse)\n",
        "print('Variance score: %.2f' % r2_score(y_test, y_pred_xgb))"
      ],
      "execution_count": 24,
      "outputs": [
        {
          "output_type": "stream",
          "text": [
            "MSE: 5.2349\n",
            "Variance score: 0.93\n"
          ],
          "name": "stdout"
        }
      ]
    },
    {
      "cell_type": "code",
      "metadata": {
        "id": "ce0jXYaxSe0D",
        "colab_type": "code",
        "colab": {
          "base_uri": "https://localhost:8080/",
          "height": 169
        },
        "outputId": "85f0209f-9ad2-40b9-b79e-f12a9a1c13cd"
      },
      "source": [
        "# Plot XGBoost decision tree\n",
        "\n",
        "xgb.plot_tree(xgboost)\n",
        "plt.show()"
      ],
      "execution_count": 25,
      "outputs": [
        {
          "output_type": "display_data",
          "data": {
            "image/png": "[encoded data removed]",
            "text/plain": [
              "<Figure size 432x288 with 1 Axes>"
            ]
          },
          "metadata": {
            "tags": []
          }
        }
      ]
    },
    {
      "cell_type": "code",
      "metadata": {
        "id": "YpCMME3XT5a_",
        "colab_type": "code",
        "colab": {
          "base_uri": "https://localhost:8080/",
          "height": 119
        },
        "outputId": "c9812ae3-fa91-40b4-ad3b-59a7d0c84926"
      },
      "source": [
        "# Fit linear model\n",
        "\n",
        "reg = linear_model.LinearRegression()\n",
        "reg.fit(X_train, y_train)\n",
        "y_pred_L = reg.predict(X_test)\n",
        "mse = mean_squared_error(y_test, y_pred_L)\n",
        "print(\"MSE: %.4f\" % mse)\n",
        "print(reg.coef_)\n",
        "print('Variance score: %.2f' % r2_score(y_test, y_pred_L))"
      ],
      "execution_count": 6,
      "outputs": [
        {
          "output_type": "stream",
          "text": [
            "MSE: 16.7602\n",
            "[-1.1393408e-01  4.9513757e-02 -1.5746288e-03  3.0158174e+00\n",
            " -1.8371170e+01  3.6225302e+00 -1.5794407e-03 -1.5652884e+00\n",
            "  3.0215311e-01 -1.0685518e-02 -1.0005605e+00  8.6920336e-03\n",
            " -5.2475441e-01]\n",
            "Variance score: 0.78\n"
          ],
          "name": "stdout"
        }
      ]
    },
    {
      "cell_type": "code",
      "metadata": {
        "id": "JMxLzMYmXFBQ",
        "colab_type": "code",
        "colab": {}
      },
      "source": [
        "# Apply polynomial transformation\n",
        "\n",
        "poly = PolynomialFeatures(degree=2)\n",
        "X_train_t = poly.fit_transform(X_train)\n",
        "X_test_t = poly.fit_transform(X_test)"
      ],
      "execution_count": 0,
      "outputs": []
    },
    {
      "cell_type": "code",
      "metadata": {
        "id": "vQSYTnXflBXC",
        "colab_type": "code",
        "colab": {
          "base_uri": "https://localhost:8080/",
          "height": 119
        },
        "outputId": "55680e23-b52c-4dcb-9b13-0d1b7e940bb1"
      },
      "source": [
        "# Fit GLM model\n",
        "\n",
        "glm = linear_model.LinearRegression()\n",
        "glm.fit(X_train_t, y_train)\n",
        "y_pred_t = glm.predict(X_test_t)\n",
        "mse = mean_squared_error(y_test, y_pred_t)\n",
        "print(\"MSE: %.4f\" % mse)\n",
        "print(reg.coef_)\n",
        "print('Variance score: %.2f' % r2_score(y_test, y_pred_t))"
      ],
      "execution_count": 8,
      "outputs": [
        {
          "output_type": "stream",
          "text": [
            "MSE: 10.9940\n",
            "[-1.1393408e-01  4.9513757e-02 -1.5746288e-03  3.0158174e+00\n",
            " -1.8371170e+01  3.6225302e+00 -1.5794407e-03 -1.5652884e+00\n",
            "  3.0215311e-01 -1.0685518e-02 -1.0005605e+00  8.6920336e-03\n",
            " -5.2475441e-01]\n",
            "Variance score: 0.85\n"
          ],
          "name": "stdout"
        }
      ]
    },
    {
      "cell_type": "code",
      "metadata": {
        "id": "DrlzxiBApp68",
        "colab_type": "code",
        "colab": {
          "base_uri": "https://localhost:8080/",
          "height": 153
        },
        "outputId": "b32d38c7-36cc-4fc0-c776-3de11bdc486e"
      },
      "source": [
        "# Fit Ridge regularisation L2 model\n",
        "\n",
        "rid = linear_model.Ridge(alpha=.5)\n",
        "rid.fit(X_train_t, y_train)\n",
        "y_pred_r = rid.predict(X_test_t)\n",
        "mse = mean_squared_error(y_test, y_pred_r)\n",
        "print(\"MSE: %.4f\" % mse)\n",
        "print(reg.coef_)\n",
        "print('Variance score: %.2f' % r2_score(y_test, y_pred_r))"
      ],
      "execution_count": 9,
      "outputs": [
        {
          "output_type": "stream",
          "text": [
            "MSE: 7.6687\n",
            "[-1.1393408e-01  4.9513757e-02 -1.5746288e-03  3.0158174e+00\n",
            " -1.8371170e+01  3.6225302e+00 -1.5794407e-03 -1.5652884e+00\n",
            "  3.0215311e-01 -1.0685518e-02 -1.0005605e+00  8.6920336e-03\n",
            " -5.2475441e-01]\n",
            "Variance score: 0.90\n"
          ],
          "name": "stdout"
        },
        {
          "output_type": "stream",
          "text": [
            "/usr/local/lib/python3.6/dist-packages/sklearn/linear_model/ridge.py:147: LinAlgWarning: Ill-conditioned matrix (rcond=2.22772e-14): result may not be accurate.\n",
            "  overwrite_a=True).T\n"
          ],
          "name": "stderr"
        }
      ]
    },
    {
      "cell_type": "code",
      "metadata": {
        "id": "tVyhP9EqAOZo",
        "colab_type": "code",
        "colab": {
          "base_uri": "https://localhost:8080/",
          "height": 173
        },
        "outputId": "2aeb8211-804c-486a-c586-9843b0903991"
      },
      "source": [
        "# Fit Lasso regularisation L1 model\n",
        "\n",
        "las = linear_model.Lasso(alpha=0.5)\n",
        "las.fit(X_train_t, y_train)\n",
        "y_pred_ls = las.predict(X_test_t)\n",
        "mse = mean_squared_error(y_test, y_pred_ls)\n",
        "print(\"MSE: %.4f\" % mse)\n",
        "print(reg.coef_)\n",
        "print('Variance score: %.2f' % r2_score(y_test, y_pred_ls))"
      ],
      "execution_count": 12,
      "outputs": [
        {
          "output_type": "stream",
          "text": [
            "MSE: 10.4335\n",
            "[-1.1393408e-01  4.9513757e-02 -1.5746288e-03  3.0158174e+00\n",
            " -1.8371170e+01  3.6225302e+00 -1.5794407e-03 -1.5652884e+00\n",
            "  3.0215311e-01 -1.0685518e-02 -1.0005605e+00  8.6920336e-03\n",
            " -5.2475441e-01]\n",
            "Variance score: 0.86\n"
          ],
          "name": "stdout"
        },
        {
          "output_type": "stream",
          "text": [
            "/usr/local/lib/python3.6/dist-packages/sklearn/linear_model/coordinate_descent.py:475: ConvergenceWarning: Objective did not converge. You might want to increase the number of iterations. Duality gap: 2472.572265625, tolerance: 3.8874781131744385\n",
            "  positive)\n"
          ],
          "name": "stderr"
        }
      ]
    },
    {
      "cell_type": "code",
      "metadata": {
        "id": "myFFnHAdrP1Y",
        "colab_type": "code",
        "colab": {
          "base_uri": "https://localhost:8080/",
          "height": 173
        },
        "outputId": "0036756b-a22d-4c9e-db5d-214d21db3ea9"
      },
      "source": [
        "# Fit ElasticNet L1 + L2 model\n",
        "\n",
        "ela = ElasticNet(alpha=.5)\n",
        "ela.fit(X_train_t, y_train)\n",
        "y_pred_e = ela.predict(X_test_t)\n",
        "mse = mean_squared_error(y_test, y_pred_e)\n",
        "print(\"MSE: %.4f\" % mse)\n",
        "print(reg.coef_)\n",
        "print('Variance score: %.2f' % r2_score(y_test, y_pred_e))"
      ],
      "execution_count": 11,
      "outputs": [
        {
          "output_type": "stream",
          "text": [
            "MSE: 10.2046\n",
            "[-1.1393408e-01  4.9513757e-02 -1.5746288e-03  3.0158174e+00\n",
            " -1.8371170e+01  3.6225302e+00 -1.5794407e-03 -1.5652884e+00\n",
            "  3.0215311e-01 -1.0685518e-02 -1.0005605e+00  8.6920336e-03\n",
            " -5.2475441e-01]\n",
            "Variance score: 0.86\n"
          ],
          "name": "stdout"
        },
        {
          "output_type": "stream",
          "text": [
            "/usr/local/lib/python3.6/dist-packages/sklearn/linear_model/coordinate_descent.py:475: ConvergenceWarning: Objective did not converge. You might want to increase the number of iterations. Duality gap: 2339.32568359375, tolerance: 3.8874781131744385\n",
            "  positive)\n"
          ],
          "name": "stderr"
        }
      ]
    },
    {
      "cell_type": "code",
      "metadata": {
        "id": "qrc7PGxuHb5n",
        "colab_type": "code",
        "colab": {}
      },
      "source": [
        ""
      ],
      "execution_count": 0,
      "outputs": []
    }
  ]
}