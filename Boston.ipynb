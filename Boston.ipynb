{
  "nbformat": 4,
  "nbformat_minor": 0,
  "metadata": {
    "colab": {
      "name": "Boston.ipynb",
      "version": "0.3.2",
      "provenance": [],
      "collapsed_sections": []
    },
    "kernelspec": {
      "name": "python3",
      "display_name": "Python 3"
    }
  },
  "cells": [
    {
      "cell_type": "markdown",
      "metadata": {
        "id": "lE-LPGrGeuzQ",
        "colab_type": "text"
      },
      "source": [
        "# Boston House Prices\n",
        "\n",
        "**Data Set Characteristics:**\n",
        "\n",
        "*Number of Instances:*\n",
        "\n",
        "506\n",
        "\n",
        "*Number of Attributes:*\n",
        "\n",
        "13 numeric/categorical predictive. Median Value (attribute 14) is usually the target.\n",
        "\n",
        "*Attribute Information (in order):*\n",
        "\n",
        "*   CRIM per capita crime rate by town\n",
        "*   ZN proportion of residential land zoned for lots over 25,000 sq.ft.\n",
        "*   INDUS proportion of non-retail business acres per town\n",
        "*   CHAS Charles River dummy variable (= 1 if tract bounds river; 0 otherwise)\n",
        "*   NOX nitric oxides concentration (parts per 10 million)\n",
        "*   RM average number of rooms per dwelling\n",
        "*   AGE proportion of owner-occupied units built prior to 1940\n",
        "*   DIS weighted distances to five Boston employment centres\n",
        "*   RAD index of accessibility to radial highways\n",
        "*   TAX full-value property-tax rate per 10,000 dollars\n",
        "*   PTRATIO pupil-teacher ratio by town\n",
        "*   B 1000(Bk - 0.63)^2 where Bk is the proportion of blacks by town\n",
        "*   LSTAT % lower status of the population\n",
        "*   MEDV Median value of owner-occupied homes in 1,000 dollars’s\n",
        "\n",
        "*Missing Attribute Values:*\n",
        " \t\n",
        "None\n",
        "\n",
        "*Creator:*\n",
        "\n",
        "Harrison, D. and Rubinfeld, D.L.\n",
        "\n",
        "This is a copy of UCI ML housing dataset. https://archive.ics.uci.edu/ml/machine-learning-databases/housing/\n",
        "\n",
        "This dataset was taken from the StatLib library which is maintained at Carnegie Mellon University.\n",
        "\n",
        "The Boston house-price data of Harrison, D. and Rubinfeld, D.L. ‘Hedonic prices and the demand for clean air’, J. Environ. Economics & Management, vol.5, 81-102, 1978. Used in Belsley, Kuh & Welsch, ‘Regression diagnostics …’, Wiley, 1980. N.B. Various transformations are used in the table on pages 244-261 of the latter.\n",
        "\n",
        "The Boston house-price data has been used in many machine learning papers that address regression problems.\n",
        "\n",
        "*References:*\n",
        "\n",
        "Belsley, Kuh & Welsch, ‘Regression diagnostics: Identifying Influential Data and Sources of Collinearity’, Wiley, 1980. 244-261.\n",
        "Quinlan,R. (1993). Combining Instance-Based and Model-Based Learning. In Proceedings on the Tenth International Conference of Machine Learning, 236-243, University of Massachusetts, Amherst. Morgan Kaufmann.\n",
        "6.2.2. Iris plants dataset"
      ]
    },
    {
      "cell_type": "code",
      "metadata": {
        "id": "3cqMZFUMetdv",
        "colab_type": "code",
        "colab": {}
      },
      "source": [
        "import numpy as np\n",
        "import matplotlib.pyplot as plt\n",
        "import xgboost as xgb\n",
        "\n",
        "from sklearn import datasets, ensemble, linear_model\n",
        "from sklearn.linear_model import ElasticNet\n",
        "from sklearn.model_selection import train_test_split\n",
        "from sklearn.metrics import mean_squared_error, r2_score\n",
        "from sklearn.preprocessing import PolynomialFeatures"
      ],
      "execution_count": 0,
      "outputs": []
    },
    {
      "cell_type": "code",
      "metadata": {
        "id": "UyMkOVj8kUtQ",
        "colab_type": "code",
        "colab": {
          "base_uri": "https://localhost:8080/",
          "height": 34
        },
        "outputId": "70f12207-5bc2-4eee-94e1-e8e13a8839c8"
      },
      "source": [
        "# Load data\n",
        "\n",
        "boston = datasets.load_boston()\n",
        "X, y = boston.data, boston.target\n",
        "X = X.astype(np.float32)\n",
        "X_train, X_test, y_train, y_test = train_test_split(X, y, test_size = .1)\n",
        "print(X_train.shape, X_test.shape)"
      ],
      "execution_count": 85,
      "outputs": [
        {
          "output_type": "stream",
          "text": [
            "(455, 13) (51, 13)\n"
          ],
          "name": "stdout"
        }
      ]
    },
    {
      "cell_type": "code",
      "metadata": {
        "id": "W0o4UnfcfVia",
        "colab_type": "code",
        "outputId": "d7645385-29a0-4e79-bfbe-cdda9165e681",
        "colab": {
          "base_uri": "https://localhost:8080/",
          "height": 51
        }
      },
      "source": [
        "# Fit GBM regression model\n",
        "\n",
        "params = {'n_estimators': 500, 'max_depth': 4, 'min_samples_split': 2, \n",
        "          'learning_rate': 0.01, 'loss': 'ls'}\n",
        "clf = ensemble.GradientBoostingRegressor(**params)\n",
        "clf.fit(X_train, y_train)\n",
        "y_pred_G = clf.predict(X_test)\n",
        "mse = mean_squared_error(y_test, y_pred_G)\n",
        "print(\"MSE: %.4f\" % mse)\n",
        "print('Variance score: %.2f' % r2_score(y_test, y_pred_G))"
      ],
      "execution_count": 86,
      "outputs": [
        {
          "output_type": "stream",
          "text": [
            "MSE: 7.2769\n",
            "Variance score: 0.93\n"
          ],
          "name": "stdout"
        }
      ]
    },
    {
      "cell_type": "code",
      "metadata": {
        "id": "VcSWdhMfgePz",
        "colab_type": "code",
        "colab": {
          "base_uri": "https://localhost:8080/",
          "height": 421
        },
        "outputId": "38a8a368-4943-4bce-b17d-916281858335"
      },
      "source": [
        "# Compute test set deviance\n",
        "\n",
        "test_score = np.zeros((params['n_estimators'],), dtype=np.float64)\n",
        "\n",
        "for i, y_pred_G in enumerate(clf.staged_predict(X_test)):\n",
        "    test_score[i] = clf.loss_(y_test, y_pred_G)\n",
        "\n",
        "plt.figure(figsize=(12, 6))\n",
        "plt.subplot(1, 2, 1)\n",
        "plt.title('Deviance')\n",
        "plt.plot(np.arange(params['n_estimators']) + 1, clf.train_score_, 'b-',\n",
        "         label='Training Set Deviance')\n",
        "plt.plot(np.arange(params['n_estimators']) + 1, test_score, 'r-',\n",
        "         label='Test Set Deviance')\n",
        "plt.legend(loc='upper right')\n",
        "plt.xlabel('Boosting Iterations')\n",
        "plt.ylabel('Deviance')"
      ],
      "execution_count": 87,
      "outputs": [
        {
          "output_type": "execute_result",
          "data": {
            "text/plain": [
              "Text(0, 0.5, 'Deviance')"
            ]
          },
          "metadata": {
            "tags": []
          },
          "execution_count": 87
        },
        {
          "output_type": "display_data",
          "data": {
            "image/png": "[encoded data removed]",
            "text/plain": [
              "<Figure size 864x432 with 1 Axes>"
            ]
          },
          "metadata": {
            "tags": []
          }
        }
      ]
    },
    {
      "cell_type": "code",
      "metadata": {
        "id": "EILPIelSCFb9",
        "colab_type": "code",
        "colab": {
          "base_uri": "https://localhost:8080/",
          "height": 295
        },
        "outputId": "c54617bd-bdf7-4e73-d917-3bbd6cd0dbbe"
      },
      "source": [
        "# Plot feature importance\n",
        "\n",
        "feature_importance = clf.feature_importances_\n",
        "feature_importance = 100.0 * (feature_importance / feature_importance.max())\n",
        "sorted_idx = np.argsort(feature_importance)\n",
        "pos = np.arange(sorted_idx.shape[0]) + .5\n",
        "plt.subplot(1, 2, 2)\n",
        "plt.barh(pos, feature_importance[sorted_idx], align='center')\n",
        "plt.yticks(pos, boston.feature_names[sorted_idx])\n",
        "plt.xlabel('Relative Importance')\n",
        "plt.title('Variable Importance')\n",
        "plt.show()"
      ],
      "execution_count": 88,
      "outputs": [
        {
          "output_type": "display_data",
          "data": {
            "image/png": "[encoded data removed]",
            "text/plain": [
              "<Figure size 432x288 with 1 Axes>"
            ]
          },
          "metadata": {
            "tags": []
          }
        }
      ]
    },
    {
      "cell_type": "code",
      "metadata": {
        "id": "0gB6jIdcG5Nx",
        "colab_type": "code",
        "colab": {
          "base_uri": "https://localhost:8080/",
          "height": 68
        },
        "outputId": "3fb5725c-9b36-4e5e-f0ee-85d735329a18"
      },
      "source": [
        "# Fit XGBoost model\n",
        "\n",
        "paramsxgb = {'max_depth': 3, 'eta': 0.01}\n",
        "xgboost = xgb.XGBRegressor(**paramsxgb)\n",
        "xgboost.fit(X_train, y_train)\n",
        "y_pred_xgb = xgboost.predict(X_test)\n",
        "mse = mean_squared_error(y_test, y_pred_xgb)\n",
        "print(\"MSE: %.4f\" % mse)\n",
        "print('Variance score: %.2f' % r2_score(y_test, y_pred_xgb))"
      ],
      "execution_count": 89,
      "outputs": [
        {
          "output_type": "stream",
          "text": [
            "[07:44:35] WARNING: /workspace/src/objective/regression_obj.cu:152: reg:linear is now deprecated in favor of reg:squarederror.\n",
            "MSE: 7.9124\n",
            "Variance score: 0.92\n"
          ],
          "name": "stdout"
        }
      ]
    },
    {
      "cell_type": "code",
      "metadata": {
        "id": "ce0jXYaxSe0D",
        "colab_type": "code",
        "colab": {
          "base_uri": "https://localhost:8080/",
          "height": 129
        },
        "outputId": "42b35d0e-ff5c-443c-be97-13b6422e903b"
      },
      "source": [
        "# Plot XGBoost decision tree\n",
        "\n",
        "xgb.plot_tree(xgboost)\n",
        "plt.show()"
      ],
      "execution_count": 90,
      "outputs": [
        {
          "output_type": "display_data",
          "data": {
            "image/png": "[encoded data removed]",
            "text/plain": [
              "<Figure size 432x288 with 1 Axes>"
            ]
          },
          "metadata": {
            "tags": []
          }
        }
      ]
    },
    {
      "cell_type": "code",
      "metadata": {
        "id": "YpCMME3XT5a_",
        "colab_type": "code",
        "colab": {
          "base_uri": "https://localhost:8080/",
          "height": 119
        },
        "outputId": "8c0ed58b-048f-4e84-961b-7ee6d4e4de64"
      },
      "source": [
        "# Fit linear model\n",
        "\n",
        "reg = linear_model.LinearRegression()\n",
        "reg.fit(X_train, y_train)\n",
        "y_pred_L = reg.predict(X_test)\n",
        "mse = mean_squared_error(y_test, y_pred_L)\n",
        "print(\"MSE: %.4f\" % mse)\n",
        "print(reg.coef_)\n",
        "print('Variance score: %.2f' % r2_score(y_test, y_pred_L))"
      ],
      "execution_count": 91,
      "outputs": [
        {
          "output_type": "stream",
          "text": [
            "MSE: 24.2293\n",
            "[-1.1019252e-01  4.9098622e-02  3.8963482e-02  1.7659584e+00\n",
            " -1.7960857e+01  3.6346409e+00 -6.6016242e-04 -1.4776672e+00\n",
            "  2.9905599e-01 -1.2902200e-02 -9.4185263e-01  8.5173417e-03\n",
            " -5.2699482e-01]\n",
            "Variance score: 0.77\n"
          ],
          "name": "stdout"
        }
      ]
    },
    {
      "cell_type": "code",
      "metadata": {
        "id": "JMxLzMYmXFBQ",
        "colab_type": "code",
        "colab": {}
      },
      "source": [
        "# Apply polynomial transformation\n",
        "\n",
        "poly = PolynomialFeatures(degree=2)\n",
        "X_train_t = poly.fit_transform(X_train)\n",
        "X_test_t = poly.fit_transform(X_test)"
      ],
      "execution_count": 0,
      "outputs": []
    },
    {
      "cell_type": "code",
      "metadata": {
        "id": "vQSYTnXflBXC",
        "colab_type": "code",
        "colab": {
          "base_uri": "https://localhost:8080/",
          "height": 119
        },
        "outputId": "c9b4f43d-4463-425a-e1cb-de4206f26134"
      },
      "source": [
        "# Fit GLM model\n",
        "\n",
        "glm = linear_model.LinearRegression()\n",
        "glm.fit(X_train_t, y_train)\n",
        "y_pred_t = glm.predict(X_test_t)\n",
        "mse = mean_squared_error(y_test, y_pred_t)\n",
        "print(\"MSE: %.4f\" % mse)\n",
        "print(reg.coef_)\n",
        "print('Variance score: %.2f' % r2_score(y_test, y_pred_t))"
      ],
      "execution_count": 93,
      "outputs": [
        {
          "output_type": "stream",
          "text": [
            "MSE: 18.5665\n",
            "[-1.1019252e-01  4.9098622e-02  3.8963482e-02  1.7659584e+00\n",
            " -1.7960857e+01  3.6346409e+00 -6.6016242e-04 -1.4776672e+00\n",
            "  2.9905599e-01 -1.2902200e-02 -9.4185263e-01  8.5173417e-03\n",
            " -5.2699482e-01]\n",
            "Variance score: 0.82\n"
          ],
          "name": "stdout"
        }
      ]
    },
    {
      "cell_type": "code",
      "metadata": {
        "id": "DrlzxiBApp68",
        "colab_type": "code",
        "colab": {
          "base_uri": "https://localhost:8080/",
          "height": 153
        },
        "outputId": "22252475-6178-45c8-f26c-7af4ce1297d4"
      },
      "source": [
        "# Fit Ridge regularisation L2 model\n",
        "\n",
        "rid = linear_model.Ridge(alpha=.5)\n",
        "rid.fit(X_train_t, y_train)\n",
        "y_pred_r = rid.predict(X_test_t)\n",
        "mse = mean_squared_error(y_test, y_pred_r)\n",
        "print(\"MSE: %.4f\" % mse)\n",
        "print(reg.coef_)\n",
        "print('Variance score: %.2f' % r2_score(y_test, y_pred_r))"
      ],
      "execution_count": 94,
      "outputs": [
        {
          "output_type": "stream",
          "text": [
            "MSE: 7.5701\n",
            "[-1.1019252e-01  4.9098622e-02  3.8963482e-02  1.7659584e+00\n",
            " -1.7960857e+01  3.6346409e+00 -6.6016242e-04 -1.4776672e+00\n",
            "  2.9905599e-01 -1.2902200e-02 -9.4185263e-01  8.5173417e-03\n",
            " -5.2699482e-01]\n",
            "Variance score: 0.93\n"
          ],
          "name": "stdout"
        },
        {
          "output_type": "stream",
          "text": [
            "/usr/local/lib/python3.6/dist-packages/sklearn/linear_model/ridge.py:147: LinAlgWarning: Ill-conditioned matrix (rcond=2.1879e-14): result may not be accurate.\n",
            "  overwrite_a=True).T\n"
          ],
          "name": "stderr"
        }
      ]
    },
    {
      "cell_type": "code",
      "metadata": {
        "id": "tVyhP9EqAOZo",
        "colab_type": "code",
        "colab": {
          "base_uri": "https://localhost:8080/",
          "height": 173
        },
        "outputId": "449a59f6-ad94-4616-fde6-4046b0f4f1b3"
      },
      "source": [
        "# Fit Lasso regularisation L1 model\n",
        "\n",
        "las = linear_model.Lasso(alpha=0.5)\n",
        "las.fit(X_train_t, y_train)\n",
        "y_pred_ls = las.predict(X_test_t)\n",
        "mse = mean_squared_error(y_test, y_pred_ls)\n",
        "print(\"MSE: %.4f\" % mse)\n",
        "print(reg.coef_)\n",
        "print('Variance score: %.2f' % r2_score(y_test, y_pred_ls))"
      ],
      "execution_count": 95,
      "outputs": [
        {
          "output_type": "stream",
          "text": [
            "MSE: 14.1980\n",
            "[-1.1019252e-01  4.9098622e-02  3.8963482e-02  1.7659584e+00\n",
            " -1.7960857e+01  3.6346409e+00 -6.6016242e-04 -1.4776672e+00\n",
            "  2.9905599e-01 -1.2902200e-02 -9.4185263e-01  8.5173417e-03\n",
            " -5.2699482e-01]\n",
            "Variance score: 0.86\n"
          ],
          "name": "stdout"
        },
        {
          "output_type": "stream",
          "text": [
            "/usr/local/lib/python3.6/dist-packages/sklearn/linear_model/coordinate_descent.py:475: ConvergenceWarning: Objective did not converge. You might want to increase the number of iterations. Duality gap: 2372.994873046875, tolerance: 3.736489772796631\n",
            "  positive)\n"
          ],
          "name": "stderr"
        }
      ]
    },
    {
      "cell_type": "code",
      "metadata": {
        "id": "myFFnHAdrP1Y",
        "colab_type": "code",
        "colab": {
          "base_uri": "https://localhost:8080/",
          "height": 173
        },
        "outputId": "81f20099-5d09-4767-fade-c683747c1f90"
      },
      "source": [
        "# Fit ElasticNet L1 + L2 model\n",
        "\n",
        "ela = ElasticNet(alpha=.5)\n",
        "ela.fit(X_train_t, y_train)\n",
        "y_pred_e = ela.predict(X_test_t)\n",
        "mse = mean_squared_error(y_test, y_pred_e)\n",
        "print(\"MSE: %.4f\" % mse)\n",
        "print(reg.coef_)\n",
        "print('Variance score: %.2f' % r2_score(y_test, y_pred_e))"
      ],
      "execution_count": 96,
      "outputs": [
        {
          "output_type": "stream",
          "text": [
            "MSE: 13.9382\n",
            "[-1.1019252e-01  4.9098622e-02  3.8963482e-02  1.7659584e+00\n",
            " -1.7960857e+01  3.6346409e+00 -6.6016242e-04 -1.4776672e+00\n",
            "  2.9905599e-01 -1.2902200e-02 -9.4185263e-01  8.5173417e-03\n",
            " -5.2699482e-01]\n",
            "Variance score: 0.87\n"
          ],
          "name": "stdout"
        },
        {
          "output_type": "stream",
          "text": [
            "/usr/local/lib/python3.6/dist-packages/sklearn/linear_model/coordinate_descent.py:475: ConvergenceWarning: Objective did not converge. You might want to increase the number of iterations. Duality gap: 2241.30908203125, tolerance: 3.736489772796631\n",
            "  positive)\n"
          ],
          "name": "stderr"
        }
      ]
    },
    {
      "cell_type": "code",
      "metadata": {
        "id": "qrc7PGxuHb5n",
        "colab_type": "code",
        "colab": {}
      },
      "source": [
        ""
      ],
      "execution_count": 0,
      "outputs": []
    }
  ]
}